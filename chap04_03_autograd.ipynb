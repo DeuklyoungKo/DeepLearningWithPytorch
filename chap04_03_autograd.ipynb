{
  "nbformat": 4,
  "nbformat_minor": 0,
  "metadata": {
    "colab": {
      "name": "chap04_03_autograd.ipynb",
      "provenance": [],
      "collapsed_sections": [],
      "authorship_tag": "ABX9TyMxx6NoycCc3dY7/+4KFyB5",
      "include_colab_link": true
    },
    "kernelspec": {
      "name": "python3",
      "display_name": "Python 3"
    },
    "language_info": {
      "name": "python"
    }
  },
  "cells": [
    {
      "cell_type": "markdown",
      "metadata": {
        "id": "view-in-github",
        "colab_type": "text"
      },
      "source": [
        "<a href=\"https://colab.research.google.com/github/DeuklyoungKo/DeepLearningWithPytorch/blob/main/chap04_03_autograd.ipynb\" target=\"_parent\"><img src=\"https://colab.research.google.com/assets/colab-badge.svg\" alt=\"Open In Colab\"/></a>"
      ]
    },
    {
      "cell_type": "code",
      "execution_count": 88,
      "metadata": {
        "colab": {
          "base_uri": "https://localhost:8080/"
        },
        "id": "tIHoVkFkrPcL",
        "outputId": "a35e0f58-48b5-48cf-ff22-a140fc943171"
      },
      "outputs": [
        {
          "output_type": "stream",
          "name": "stdout",
          "text": [
            "tensor([[0.],\n",
            "        [1.],\n",
            "        [2.],\n",
            "        [3.],\n",
            "        [4.]])\n",
            "tensor([[0.8467],\n",
            "        [2.5953],\n",
            "        [4.1140],\n",
            "        [6.6236],\n",
            "        [8.8345]])\n",
            "tensor([[0.8467],\n",
            "        [0.5953],\n",
            "        [0.1140],\n",
            "        [0.6236],\n",
            "        [0.8345]])\n",
            "torch.Size([5, 1])\n",
            "1\n"
          ]
        }
      ],
      "source": [
        "import torch\n",
        "from matplotlib import pyplot as plt\n",
        "\n",
        "\n",
        "x = torch.FloatTensor(range(5)).unsqueeze(1)\n",
        "b1 = torch.rand(5,1)\n",
        "# b1 = (torch.ones(5,1)*2).view(-1,1)\n",
        "# b1 = 8\n",
        "y = 2*x + b1\n",
        "num_features = x.shape[1]\n",
        "print(x)\n",
        "print(y)\n",
        "print(b1)\n",
        "print(x.shape)\n",
        "print(num_features)"
      ]
    },
    {
      "cell_type": "code",
      "source": [
        "# b1 = (torch.ones(5,1)*2).view(-1,1)\n",
        "# b1"
      ],
      "metadata": {
        "id": "mqH8M77d5qUv"
      },
      "execution_count": 89,
      "outputs": []
    },
    {
      "cell_type": "code",
      "source": [
        "w = torch.randn(num_features, 1, requires_grad=True)\n",
        "b = torch.randn(1, requires_grad=True)\n",
        "print(w)\n",
        "print(b)\n"
      ],
      "metadata": {
        "colab": {
          "base_uri": "https://localhost:8080/"
        },
        "id": "5XRnWJ35uPsa",
        "outputId": "a311c04f-7782-4cfc-8b58-0068347f31b3"
      },
      "execution_count": 90,
      "outputs": [
        {
          "output_type": "stream",
          "name": "stdout",
          "text": [
            "tensor([[-0.1101]], requires_grad=True)\n",
            "tensor([-0.6185], requires_grad=True)\n"
          ]
        }
      ]
    },
    {
      "cell_type": "code",
      "source": [
        "\n",
        "\n",
        "\n",
        "\n",
        "\n",
        "\n",
        "\n",
        "learning_rate = 1e-3\n",
        "optimizer = torch.optim.SGD([w,b], lr=learning_rate)\n",
        "\n",
        "loss_stack = []\n",
        "for epoch in range(10001):\n",
        "  optimizer.zero_grad()\n",
        "  y_hat = torch.matmul(x,w)+b\n",
        "  loss = torch.mean((y_hat-y)**2)\n",
        "  loss.backward()\n",
        "  optimizer.step()\n",
        "  loss_stack.append(loss.item())\n",
        "\n",
        "  if epoch % 100 == 0:\n",
        "    print(f'Epoch {epoch}:{loss.item()}')"
      ],
      "metadata": {
        "colab": {
          "base_uri": "https://localhost:8080/"
        },
        "id": "CnVrJQHivLs5",
        "outputId": "c388ce98-c621-4120-c3f4-39a7f53a4f7b"
      },
      "execution_count": 91,
      "outputs": [
        {
          "output_type": "stream",
          "name": "stdout",
          "text": [
            "Epoch 0:38.59070587158203\n",
            "Epoch 100:2.712789297103882\n",
            "Epoch 200:0.2929235100746155\n",
            "Epoch 300:0.12507040798664093\n",
            "Epoch 400:0.10931931436061859\n",
            "Epoch 500:0.10430464893579483\n",
            "Epoch 600:0.10045738518238068\n",
            "Epoch 700:0.09708381444215775\n",
            "Epoch 800:0.09409273415803909\n",
            "Epoch 900:0.09143850207328796\n",
            "Epoch 1000:0.0890830010175705\n",
            "Epoch 1100:0.08699267357587814\n",
            "Epoch 1200:0.08513752371072769\n",
            "Epoch 1300:0.0834912583231926\n",
            "Epoch 1400:0.0820302814245224\n",
            "Epoch 1500:0.08073379099369049\n",
            "Epoch 1600:0.07958311587572098\n",
            "Epoch 1700:0.07856208831071854\n",
            "Epoch 1800:0.0776558592915535\n",
            "Epoch 1900:0.07685168832540512\n",
            "Epoch 2000:0.07613807916641235\n",
            "Epoch 2100:0.07550471276044846\n",
            "Epoch 2200:0.0749426931142807\n",
            "Epoch 2300:0.07444392889738083\n",
            "Epoch 2400:0.07400129735469818\n",
            "Epoch 2500:0.07360844314098358\n",
            "Epoch 2600:0.07325983792543411\n",
            "Epoch 2700:0.07295054197311401\n",
            "Epoch 2800:0.0726759135723114\n",
            "Epoch 2900:0.07243228703737259\n",
            "Epoch 3000:0.07221617549657822\n",
            "Epoch 3100:0.07202431559562683\n",
            "Epoch 3200:0.07185401022434235\n",
            "Epoch 3300:0.07170279324054718\n",
            "Epoch 3400:0.07156876474618912\n",
            "Epoch 3500:0.07144974172115326\n",
            "Epoch 3600:0.07134417444467545\n",
            "Epoch 3700:0.07125034183263779\n",
            "Epoch 3800:0.07116721570491791\n",
            "Epoch 3900:0.07109345495700836\n",
            "Epoch 4000:0.07102791219949722\n",
            "Epoch 4100:0.07096973061561584\n",
            "Epoch 4200:0.07091822475194931\n",
            "Epoch 4300:0.07087235152721405\n",
            "Epoch 4400:0.0708317682147026\n",
            "Epoch 4500:0.07079573720693588\n",
            "Epoch 4600:0.07076366245746613\n",
            "Epoch 4700:0.07073526084423065\n",
            "Epoch 4800:0.07071010023355484\n",
            "Epoch 4900:0.07068779319524765\n",
            "Epoch 5000:0.07066790759563446\n",
            "Epoch 5100:0.07065023481845856\n",
            "Epoch 5200:0.07063473016023636\n",
            "Epoch 5300:0.07062076032161713\n",
            "Epoch 5400:0.07060842216014862\n",
            "Epoch 5500:0.07059751451015472\n",
            "Epoch 5600:0.07058791816234589\n",
            "Epoch 5700:0.07057920098304749\n",
            "Epoch 5800:0.07057167589664459\n",
            "Epoch 5900:0.07056479156017303\n",
            "Epoch 6000:0.07055877894163132\n",
            "Epoch 6100:0.07055355608463287\n",
            "Epoch 6200:0.07054874300956726\n",
            "Epoch 6300:0.07054451107978821\n",
            "Epoch 6400:0.07054075598716736\n",
            "Epoch 6500:0.07053747028112411\n",
            "Epoch 6600:0.0705345869064331\n",
            "Epoch 6700:0.0705319195985794\n",
            "Epoch 6800:0.07052970677614212\n",
            "Epoch 6900:0.0705275908112526\n",
            "Epoch 7000:0.07052578032016754\n",
            "Epoch 7100:0.070524200797081\n",
            "Epoch 7200:0.07052277773618698\n",
            "Epoch 7300:0.07052145153284073\n",
            "Epoch 7400:0.0705203041434288\n",
            "Epoch 7500:0.07051932066679001\n",
            "Epoch 7600:0.07051846385002136\n",
            "Epoch 7700:0.0705176368355751\n",
            "Epoch 7800:0.07051686197519302\n",
            "Epoch 7900:0.07051634043455124\n",
            "Epoch 8000:0.07051572948694229\n",
            "Epoch 8100:0.07051531225442886\n",
            "Epoch 8200:0.07051480561494827\n",
            "Epoch 8300:0.07051444053649902\n",
            "Epoch 8400:0.07051412761211395\n",
            "Epoch 8500:0.07051382213830948\n",
            "Epoch 8600:0.07051357626914978\n",
            "Epoch 8700:0.07051324844360352\n",
            "Epoch 8800:0.07051306217908859\n",
            "Epoch 8900:0.07051292806863785\n",
            "Epoch 9000:0.07051264494657516\n",
            "Epoch 9100:0.070512555539608\n",
            "Epoch 9200:0.07051245868206024\n",
            "Epoch 9300:0.07051221281290054\n",
            "Epoch 9400:0.07051216065883636\n",
            "Epoch 9500:0.07051210105419159\n",
            "Epoch 9600:0.07051204144954681\n",
            "Epoch 9700:0.07051200419664383\n",
            "Epoch 9800:0.07051180303096771\n",
            "Epoch 9900:0.07051177322864532\n",
            "Epoch 10000:0.0705118328332901\n"
          ]
        }
      ]
    },
    {
      "cell_type": "code",
      "source": [
        "print(w)\n",
        "print(b)\n",
        "with torch.no_grad():\n",
        "  y_hat = torch.matmul(x,w)+b"
      ],
      "metadata": {
        "colab": {
          "base_uri": "https://localhost:8080/"
        },
        "id": "eMOIaU7twwjk",
        "outputId": "9585f367-dad8-40c3-a09c-3924da358253"
      },
      "execution_count": 92,
      "outputs": [
        {
          "output_type": "stream",
          "name": "stdout",
          "text": [
            "tensor([[2.0008]], requires_grad=True)\n",
            "tensor([0.6009], requires_grad=True)\n"
          ]
        }
      ]
    },
    {
      "cell_type": "code",
      "source": [
        "plt.figure(figsize=(10,5))\n",
        "plt.subplot(121)\n",
        "plt.plot(loss_stack)\n",
        "plt.title(\"Loss\")\n",
        "plt.subplot(122)\n",
        "plt.plot(x,y,'.b')\n",
        "plt.plot(x,y_hat,'r-')\n",
        "plt.legend(['ground truth','prediction'])\n",
        "plt.title(\"Prediction\")\n",
        "plt.show()"
      ],
      "metadata": {
        "colab": {
          "base_uri": "https://localhost:8080/",
          "height": 336
        },
        "id": "gyeqP0ZnxD4n",
        "outputId": "35f293eb-26e3-41f5-d8d8-cd930d0f016e"
      },
      "execution_count": 93,
      "outputs": [
        {
          "output_type": "display_data",
          "data": {
            "text/plain": [
              "<Figure size 720x360 with 2 Axes>"
            ],
            "image/png": "[encoded data removed]"
          },
          "metadata": {
            "needs_background": "light"
          }
        }
      ]
    }
  ]
}